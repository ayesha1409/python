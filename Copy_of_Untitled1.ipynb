{
  "nbformat": 4,
  "nbformat_minor": 0,
  "metadata": {
    "colab": {
      "provenance": [],
      "authorship_tag": "ABX9TyPtlv0TNzGHm3Tp6VGwcJlU",
      "include_colab_link": true
    },
    "kernelspec": {
      "name": "python3",
      "display_name": "Python 3"
    },
    "language_info": {
      "name": "python"
    }
  },
  "cells": [
    {
      "cell_type": "markdown",
      "metadata": {
        "id": "view-in-github",
        "colab_type": "text"
      },
      "source": [
        "<a href=\"https://colab.research.google.com/github/ayesha1409/python/blob/main/Copy_of_Untitled1.ipynb\" target=\"_parent\"><img src=\"https://colab.research.google.com/assets/colab-badge.svg\" alt=\"Open In Colab\"/></a>"
      ]
    },
    {
      "cell_type": "code",
      "execution_count": null,
      "metadata": {
        "colab": {
          "base_uri": "https://localhost:8080/"
        },
        "id": "xt81I1Uf4rAe",
        "outputId": "839f7c0a-7481-4cd5-cf84-8e5b4c0a18f4"
      },
      "outputs": [
        {
          "output_type": "stream",
          "name": "stdout",
          "text": [
            "A    1\n",
            "B    2\n",
            "C    3\n",
            "D    4\n",
            "E    5\n",
            "F    6\n",
            "dtype: int64\n"
          ]
        }
      ],
      "source": [
        "import pandas as pd\n",
        "data=[1,2,3,4,5,6]\n",
        "series = pd.Series(data,index=['A','B','C','D','E','F'])\n",
        "print(series)"
      ]
    },
    {
      "cell_type": "code",
      "source": [
        "import pandas as pd\n",
        "\n",
        "dataframe = {\n",
        "    'Name': ['Sohona', 'Falguni', 'Jiya', 'Ayesha'],\n",
        "    'Age': [25, 26, 25, 25],\n",
        "    'Fav_color': ['black', 'green', 'pink', 'red']\n",
        "}\n",
        "\n",
        "df = pd.DataFrame(dataframe)\n",
        "print(df)\n",
        "\n",
        "groupedData=df.groupby(['Fav_color']);\n",
        "print(groupedData['Age'].count())\n"
      ],
      "metadata": {
        "colab": {
          "base_uri": "https://localhost:8080/"
        },
        "id": "Uv_1mNGl-pMr",
        "outputId": "8835b53e-8994-4841-b344-f1f165905574"
      },
      "execution_count": null,
      "outputs": [
        {
          "output_type": "stream",
          "name": "stdout",
          "text": [
            "      Name  Age Fav_color\n",
            "0   Sohona   25     black\n",
            "1  Falguni   26     green\n",
            "2     Jiya   25      pink\n",
            "3   Ayesha   25       red\n",
            "Fav_color\n",
            "black    1\n",
            "green    1\n",
            "pink     1\n",
            "red      1\n",
            "Name: Age, dtype: int64\n"
          ]
        }
      ]
    },
    {
      "cell_type": "code",
      "source": [
        "import pandas as pd\n",
        "\n",
        "dataframe1 = {\n",
        "    'Name': ['Sohona', 'Falguni', 'Jiya', 'Ayesha'],\n",
        "    'Age': [25, 26, 25, 25],\n",
        "    'Fav_color': ['black', 'green', 'pink', 'red']\n",
        "}\n",
        "\n",
        "dataframe2 = {\n",
        "    'Name': ['Disha', 'Mona', 'zoya', 'puja'],\n",
        "    'Age': [20, 29, 22, 24],\n",
        "    'Fav_color': ['black', 'green', 'pink', 'red']\n",
        "}\n",
        "df1=pd.DataFrame(dataframe1)\n",
        "df2=pd.DataFrame(dataframe2)\n",
        "final_df=pd.concat([df1,df2],axis=0,ignore_index=True)\n",
        "\n",
        "grouped_data = a.groupby('Fav_color').count()\n",
        "black_count = grouped_data.loc['black']\n",
        "\n",
        "print(black_count)\n",
        "print(a)\n",
        "print(df1.loc[1:3,])\n",
        "print(df1.duplicated())\n",
        "cleaned_data=df1.drop_duplicates()\n",
        "print(cleaned_data)\n",
        "cleaned_data = a.drop_duplicates()\n",
        "print(cleaned_data)\n",
        "\n"
      ],
      "metadata": {
        "colab": {
          "base_uri": "https://localhost:8080/"
        },
        "id": "ARqecesh_IJ2",
        "outputId": "18e133d9-4a38-412c-e56c-f0264722f02b"
      },
      "execution_count": null,
      "outputs": [
        {
          "output_type": "stream",
          "name": "stdout",
          "text": [
            "Name    2\n",
            "Age     2\n",
            "Name: black, dtype: int64\n",
            "      Name  Age Fav_color\n",
            "0   Sohona   25     black\n",
            "1  Falguni   26     green\n",
            "2     Jiya   25      pink\n",
            "3   Ayesha   25       red\n",
            "4    Disha   20     black\n",
            "5     Mona   29     green\n",
            "6     zoya   22      pink\n",
            "7     puja   24       red\n",
            "      Name  Age Fav_color\n",
            "1  Falguni   26     green\n",
            "2     Jiya   25      pink\n",
            "3   Ayesha   25       red\n",
            "0    False\n",
            "1    False\n",
            "2    False\n",
            "3    False\n",
            "dtype: bool\n",
            "      Name  Age Fav_color\n",
            "0   Sohona   25     black\n",
            "1  Falguni   26     green\n",
            "2     Jiya   25      pink\n",
            "3   Ayesha   25       red\n",
            "      Name  Age Fav_color\n",
            "0   Sohona   25     black\n",
            "1  Falguni   26     green\n",
            "2     Jiya   25      pink\n",
            "3   Ayesha   25       red\n",
            "4    Disha   20     black\n",
            "5     Mona   29     green\n",
            "6     zoya   22      pink\n",
            "7     puja   24       red\n"
          ]
        }
      ]
    },
    {
      "cell_type": "code",
      "source": [],
      "metadata": {
        "id": "k4kTHB4cBpZD"
      },
      "execution_count": null,
      "outputs": []
    }
  ]
}